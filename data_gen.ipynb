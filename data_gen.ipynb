{
 "cells": [
  {
   "cell_type": "code",
   "execution_count": 1,
   "metadata": {},
   "outputs": [],
   "source": [
    "import sys\n",
    "\n",
    "import numpy as np\n",
    "from dataset import *\n",
    "\n",
    "import argparse\n",
    "\n",
    "import os\n",
    "\n",
    "current_script_path = os.getcwd()\n",
    "main_folder_path = os.path.dirname(current_script_path)\n",
    "\n",
    "if main_folder_path not in sys.path:\n",
    "    sys.path.append(main_folder_path)\n",
    "\n",
    "\n",
    "from domains.gridworld import *\n",
    "from generators.obstacle_gen import *\n",
    "from tqdm import tqdm \n",
    "\n",
    "import numpy as np\n",
    "import matplotlib.pyplot as plt\n",
    "import pykonal\n",
    "\n",
    "\n"
   ]
  },
  {
   "cell_type": "code",
   "execution_count": 2,
   "metadata": {},
   "outputs": [
    {
     "name": "stderr",
     "output_type": "stream",
     "text": [
      "100%|██████████| 1200/1200 [01:19<00:00, 15.18it/s]\n"
     ]
    }
   ],
   "source": [
    "# Number of trials\n",
    "num_trials =1200 # 1000 for training and 200 for testing\n",
    "env_size = 28\n",
    "\n",
    "x_values_array = np.zeros((env_size* env_size* 1, num_trials))\n",
    "y_values_array = np.zeros((env_size* env_size* 1, num_trials))\n",
    "velocity_matrices_array = np.zeros((num_trials, env_size, env_size))\n",
    "inverse_travel_time_values_array = np.zeros((num_trials, env_size, env_size))\n",
    "\n",
    "for trial in tqdm(range(num_trials)):\n",
    "# Instantiate EikonalSolver object using Cartesian coordinates.\n",
    "    solver = pykonal.EikonalSolver(coord_sys=\"cartesian\")\n",
    "    solver.velocity.min_coords = 0, 0, 0\n",
    "    solver.velocity.node_intervals = 1, 1, 1\n",
    "    solver.velocity.npts = env_size, env_size, 1\n",
    "\n",
    "    # Create a velocity matrix with all values set to 1.0\n",
    "    velocity_matrix = np.ones((env_size, env_size, 1))\n",
    "     \n",
    "    goal = [14,14]\n",
    "    max_obs=20\n",
    "    max_obs_size=6\n",
    "    dom_size=(env_size, env_size)\n",
    "\n",
    "    obs = obstacles([dom_size[0], dom_size[1]], goal, max_obs_size)\n",
    "    n_obs = obs.add_n_rand_obs(max_obs)\n",
    "    border_res = obs.add_border()\n",
    "    im = obs.get_final()\n",
    "    # Generate gridworld from obstacle map\n",
    "    G = GridWorld(im, goal[0], goal[1])\n",
    "    im_np = np.array(im).reshape(env_size, env_size, 1)\n",
    "\n",
    "    solver.velocity.values = im_np\n",
    "    src_idx = goal[1],goal[0], 0\n",
    "    solver.traveltime.values[src_idx] = 100\n",
    "\n",
    "    # Set the unknown flag for the source node to False.\n",
    "    solver.unknown[src_idx] = False\n",
    "    solver.trial.push(*src_idx)\n",
    "\n",
    "    # Solve the system.\n",
    "    solver.solve()\n",
    "\n",
    "    velocity_matrices_array[trial,:,:] = im_np.reshape(env_size,env_size)\n",
    "    inverse_travel_time_values_array[trial,:, :] = 1/solver.traveltime.values[:, :, 0]\n"
   ]
  },
  {
   "cell_type": "code",
   "execution_count": 3,
   "metadata": {},
   "outputs": [],
   "source": [
    "# Save velocity_matrices_array as \"mask.npy\"\n",
    "np.save(\"mask.npy\", velocity_matrices_array)\n",
    "\n",
    "# Save travel_time_values_array as \"output.npy\"\n",
    "np.save(\"output.npy\", inverse_travel_time_values_array)"
   ]
  },
  {
   "cell_type": "code",
   "execution_count": 4,
   "metadata": {},
   "outputs": [],
   "source": [
    "def calculate_signed_distance(velocity_matrix):\n",
    "    # Find the indices of obstacles\n",
    "    obstacle_indices = np.where(velocity_matrix < 1.0)\n",
    "\n",
    "    # Check if there are no obstacles\n",
    "    if obstacle_indices[0].size == 0:\n",
    "        # Handle the case when there are no obstacles\n",
    "        return np.zeros_like(velocity_matrix)\n",
    "\n",
    "    # Create a meshgrid of indices\n",
    "    i, j = np.meshgrid(np.arange(velocity_matrix.shape[1]), np.arange(velocity_matrix.shape[0]), indexing='ij')  # Note the change in the order of indices\n",
    "    \n",
    "    # Calculate distances to obstacles using vectorized operations\n",
    "    distances = np.sqrt((obstacle_indices[0][:, None, None] - i[None, :, :])**2 + (obstacle_indices[1][:, None, None] - j[None, :, :])**2)\n",
    "\n",
    "    # Find the minimum distance for each point\n",
    "    signed_distance = np.min(distances, axis=0)\n",
    "    return signed_distance\n",
    "\n"
   ]
  },
  {
   "cell_type": "code",
   "execution_count": 5,
   "metadata": {},
   "outputs": [
    {
     "name": "stderr",
     "output_type": "stream",
     "text": [
      "100%|██████████| 1200/1200 [00:01<00:00, 1131.84it/s]\n"
     ]
    }
   ],
   "source": [
    "\n",
    "signed_distance_array = np.zeros((num_trials, env_size, env_size))\n",
    "\n",
    "for i in tqdm(range(num_trials)):\n",
    "    signed_distance_array[i,:,:] = calculate_signed_distance(velocity_matrices_array[i,:,:].reshape(env_size,env_size,1))\n",
    "\n",
    "# Save signed_distance_array as \"dist_in.npy\"\n",
    "np.save(\"dist_in.npy\", signed_distance_array)"
   ]
  }
 ],
 "metadata": {
  "kernelspec": {
   "display_name": "pykonal",
   "language": "python",
   "name": "python3"
  },
  "language_info": {
   "codemirror_mode": {
    "name": "ipython",
    "version": 3
   },
   "file_extension": ".py",
   "mimetype": "text/x-python",
   "name": "python",
   "nbconvert_exporter": "python",
   "pygments_lexer": "ipython3",
   "version": "3.8.18"
  },
  "orig_nbformat": 4
 },
 "nbformat": 4,
 "nbformat_minor": 2
}
